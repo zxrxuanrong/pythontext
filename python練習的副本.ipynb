{
  "nbformat": 4,
  "nbformat_minor": 0,
  "metadata": {
    "colab": {
      "name": "python練習的副本",
      "provenance": [],
      "authorship_tag": "ABX9TyM8ha35zw3+HtX/w+9GqF3C",
      "include_colab_link": true
    },
    "kernelspec": {
      "name": "python3",
      "display_name": "Python 3"
    }
  },
  "cells": [
    {
      "cell_type": "markdown",
      "metadata": {
        "id": "view-in-github",
        "colab_type": "text"
      },
      "source": [
        "<a href=\"https://colab.research.google.com/github/zxrxuanrong/pythontext/blob/main/python%E7%B7%B4%E7%BF%92%E7%9A%84%E5%89%AF%E6%9C%AC.ipynb\" target=\"_parent\"><img src=\"https://colab.research.google.com/assets/colab-badge.svg\" alt=\"Open In Colab\"/></a>"
      ]
    },
    {
      "cell_type": "code",
      "metadata": {
        "id": "jQbjbggRkZx6",
        "outputId": "06e46cb1-1686-4aa7-a011-e87796857291",
        "colab": {
          "base_uri": "https://localhost:8080/",
          "height": 50
        }
      },
      "source": [
        "class Animal:    #定義類別\n",
        "  name = \"小鳥\"  #定義屬性\n",
        "  def dance(self): #定義方法\n",
        "    print(\"很會跳舞\")\n",
        "\n",
        "bird = Animal() #以Animal為類別,建立一個名叫bird的物件\n",
        "print(bird.name)\n",
        "bird.dance()"
      ],
      "execution_count": null,
      "outputs": [
        {
          "output_type": "stream",
          "text": [
            "小鳥\n",
            "很會跳舞\n"
          ],
          "name": "stdout"
        }
      ]
    },
    {
      "cell_type": "code",
      "metadata": {
        "id": "lP9M8gpfoGeB",
        "outputId": "48b399d1-5b56-44fc-93cd-16e653c24c04",
        "colab": {
          "base_uri": "https://localhost:8080/",
          "height": 50
        }
      },
      "source": [
        "class Animal():\n",
        "  def __init__ (self,name):\n",
        "    self.name=name\n",
        "  def sing(self):\n",
        "    print(self.name + \".很會唱歌!\")\n",
        "\n",
        "bird = Animal(\"鸚鵡\")\n",
        "print(bird.name)\n",
        "bird.sing()"
      ],
      "execution_count": null,
      "outputs": [
        {
          "output_type": "stream",
          "text": [
            "鸚鵡\n",
            "鸚鵡.很會唱歌!\n"
          ],
          "name": "stdout"
        }
      ]
    },
    {
      "cell_type": "code",
      "metadata": {
        "id": "ckgz4br3scRQ",
        "outputId": "9bbafc64-f769-4cb3-db14-3d1745e19c67",
        "colab": {
          "base_uri": "https://localhost:8080/",
          "height": 34
        }
      },
      "source": [
        "class Animal():\n",
        "  def __init__ (self,name,age):\n",
        "    self.name=name\n",
        "    self.age=age\n",
        "  def sing(self):\n",
        "    print(self.name + str(self.age) + \"歲.很會唱歌!\")\n",
        "  def grow(self,year):\n",
        "    self.age += year\n",
        "\n",
        "bird = Animal(\"鸚鵡\",1)\n",
        "bird.grow(1)\n",
        "bird.sing()"
      ],
      "execution_count": null,
      "outputs": [
        {
          "output_type": "stream",
          "text": [
            "鸚鵡2.很會唱歌!\n"
          ],
          "name": "stdout"
        }
      ]
    },
    {
      "cell_type": "code",
      "metadata": {
        "id": "XJGx6hMGuHoX",
        "outputId": "22de8c7f-4319-4816-e5a5-662bc24af276",
        "colab": {
          "base_uri": "https://localhost:8080/",
          "height": 34
        }
      },
      "source": [
        "class Animal():\n",
        "  def __init__ (self,name,age,variety):\n",
        "    self.name=name\n",
        "    self.age=age\n",
        "    self.variety=variety\n",
        "  def dance(self):\n",
        "    print(self.name + str(self.age) + \"歲.很會跳\" + self.variety)\n",
        "  def grow(self,year):\n",
        "    self.age += year\n",
        "\n",
        "Dog = Animal(\"小黃\",3,\"江南style\")\n",
        "Dog.grow(1)\n",
        "Dog.dance()\n"
      ],
      "execution_count": null,
      "outputs": [
        {
          "output_type": "stream",
          "text": [
            "小黃4歲.很會跳江南style\n"
          ],
          "name": "stdout"
        }
      ]
    },
    {
      "cell_type": "code",
      "metadata": {
        "id": "EZ1JnCbLx1Y5",
        "outputId": "1691d3d4-7963-4500-e671-52b4383c684a",
        "colab": {
          "base_uri": "https://localhost:8080/",
          "height": 34
        }
      },
      "source": [
        "class Fight():\n",
        "  def __init__(self,name1,name2,style):\n",
        "    self.name1=name1\n",
        "    self.name2=name2\n",
        "    self.style=style\n",
        "  def punch(self):\n",
        "    print(self.name1 + \"用\" +self.style + \"擊敗了\" +self.name2)\n",
        "XX = Fight(\"小明\",\"小紅\",\"升龍拳\")\n",
        "XX.punch()"
      ],
      "execution_count": null,
      "outputs": [
        {
          "output_type": "stream",
          "text": [
            "小明用升龍拳擊敗了小紅\n"
          ],
          "name": "stdout"
        }
      ]
    },
    {
      "cell_type": "code",
      "metadata": {
        "id": "CIs0C8mv37Vy",
        "outputId": "24ef8b85-a56a-4544-e7d2-109a8c939296",
        "colab": {
          "base_uri": "https://localhost:8080/",
          "height": 264
        }
      },
      "source": [
        "class Animal:\n",
        "  def __init__(self,name,age):\n",
        "    self.__name=name\n",
        "    self.__age=age\n",
        "  def __sing(self):\n",
        "    print(self.__name + str(self.__age) + \"歲,很愛唱歌\")\n",
        "  def talk(self):\n",
        "    self.__sing()\n",
        "    print(\"會模仿別人說話\")\n",
        "  \n",
        "\n",
        "bird = Animal(\"白鸚鵡\",3)\n",
        "bird.talk()\n",
        "bird.__age = 5 #外部無法更改封裝程式\n",
        "bird.talk()\n",
        "bird.__sing    #外部無法呼叫內部程式"
      ],
      "execution_count": null,
      "outputs": [
        {
          "output_type": "stream",
          "text": [
            "白鸚鵡3歲,很愛唱歌\n",
            "會模仿別人說話\n",
            "白鸚鵡3歲,很愛唱歌\n",
            "會模仿別人說話\n"
          ],
          "name": "stdout"
        },
        {
          "output_type": "error",
          "ename": "AttributeError",
          "evalue": "ignored",
          "traceback": [
            "\u001b[0;31m---------------------------------------------------------------------------\u001b[0m",
            "\u001b[0;31mAttributeError\u001b[0m                            Traceback (most recent call last)",
            "\u001b[0;32m<ipython-input-58-32ff707a6391>\u001b[0m in \u001b[0;36m<module>\u001b[0;34m()\u001b[0m\n\u001b[1;32m     14\u001b[0m \u001b[0mbird\u001b[0m\u001b[0;34m.\u001b[0m\u001b[0m__age\u001b[0m \u001b[0;34m=\u001b[0m \u001b[0;36m5\u001b[0m \u001b[0;31m#外部無法更改封裝程式\u001b[0m\u001b[0;34m\u001b[0m\u001b[0;34m\u001b[0m\u001b[0m\n\u001b[1;32m     15\u001b[0m \u001b[0mbird\u001b[0m\u001b[0;34m.\u001b[0m\u001b[0mtalk\u001b[0m\u001b[0;34m(\u001b[0m\u001b[0;34m)\u001b[0m\u001b[0;34m\u001b[0m\u001b[0;34m\u001b[0m\u001b[0m\n\u001b[0;32m---> 16\u001b[0;31m \u001b[0mbird\u001b[0m\u001b[0;34m.\u001b[0m\u001b[0m__sing\u001b[0m    \u001b[0;31m#外部無法呼叫內部程式\u001b[0m\u001b[0;34m\u001b[0m\u001b[0;34m\u001b[0m\u001b[0m\n\u001b[0m",
            "\u001b[0;31mAttributeError\u001b[0m: 'Animal' object has no attribute '__sing'"
          ]
        }
      ]
    },
    {
      "cell_type": "code",
      "metadata": {
        "id": "Z7ziRTovgkOF",
        "outputId": "687cadda-1eac-43af-bd52-435e7d8c0bb3",
        "colab": {
          "base_uri": "https://localhost:8080/",
          "height": 67
        }
      },
      "source": [
        "class Animal():\n",
        "  def __init__ (self,name):\n",
        "    self.name = name\n",
        "  def fly(self):\n",
        "    print(self.name + \"很會飛\")\n",
        "\n",
        "class Bird(Animal):    #父類別可以被子類別繼承,但子內別無法呼叫父內別\n",
        "  def __init__ (self,name):\n",
        "    self.name =\"粉紅色的\" + name\n",
        "  def sing(self):\n",
        "    print(self.name + \"也愛唱歌\")\n",
        "\n",
        "AA = Animal(\"小白鴿\")\n",
        "AA.fly()\n",
        "#AA.sing()\n",
        "\n",
        "bb = Bird(\"小鸚鵡\")\n",
        "bb.fly()\n",
        "bb.sing()"
      ],
      "execution_count": null,
      "outputs": [
        {
          "output_type": "stream",
          "text": [
            "小白鴿很會飛\n",
            "粉紅色的小鸚鵡很會飛\n",
            "粉紅色的小鸚鵡也愛唱歌\n"
          ],
          "name": "stdout"
        }
      ]
    },
    {
      "cell_type": "code",
      "metadata": {
        "id": "y0eJXqrIk7xJ",
        "outputId": "24e54190-5f94-48ac-c95d-7565152665ef",
        "colab": {
          "base_uri": "https://localhost:8080/",
          "height": 50
        }
      },
      "source": [
        "class Animal():\n",
        "  def __init__ (self,name,age):\n",
        "    self.name = name\n",
        "    self.age = age\n",
        "  def fly(self):\n",
        "    print(self.name + str(self.age) + \"歲,很會飛\")\n",
        "class Bird(Animal):\n",
        "  def __init__ (self,name,age):\n",
        "    super().__init__(name,age)\n",
        "    self.age = age\n",
        "  def fly(self):\n",
        "    print(str(self.age), end = \"87\")\n",
        "    super().fly()\n",
        "\n",
        "aa = Animal(\"小白鴿\",2)\n",
        "aa.fly()\n",
        "\n",
        "bb = Bird(\"小鸚鵡\",2)\n",
        "bb.fly()"
      ],
      "execution_count": null,
      "outputs": [
        {
          "output_type": "stream",
          "text": [
            "小白鴿2歲,很會飛\n",
            "287小鸚鵡2歲,很會飛\n"
          ],
          "name": "stdout"
        }
      ]
    },
    {
      "cell_type": "code",
      "metadata": {
        "id": "MowlfVFUs3w5",
        "outputId": "d2380793-556a-4319-e408-83c0af037b95",
        "colab": {
          "base_uri": "https://localhost:8080/",
          "height": 84
        }
      },
      "source": [
        "class Animal():\n",
        "  def fly(self):\n",
        "    print(\"時速20公里\")\n",
        "\n",
        "class Bird(Animal):\n",
        "  def fly(self,speed):\n",
        "    print(\"時速\" + str(speed) + \"公里\")\n",
        "\n",
        "class Plane():\n",
        "  def fly(self):\n",
        "    print(\"時速1000公里\")\n",
        "\n",
        "def fly(speed):\n",
        "    print(\"時數\" + str(speed) + \"英里\")\n",
        "\n",
        "aa = Animal()\n",
        "aa.fly()\n",
        "\n",
        "bb = Bird()\n",
        "bb.fly(60)\n",
        "\n",
        "cc = Plane()\n",
        "cc.fly()\n",
        "\n",
        "fly(5)"
      ],
      "execution_count": 39,
      "outputs": [
        {
          "output_type": "stream",
          "text": [
            "時速20公里\n",
            "時速60公里\n",
            "時速1000公里\n",
            "時數5英里\n"
          ],
          "name": "stdout"
        }
      ]
    },
    {
      "cell_type": "code",
      "metadata": {
        "id": "ucOZnMUbyIUr",
        "outputId": "48a06e8c-788f-4e29-920f-9c81e099d5bf",
        "colab": {
          "base_uri": "https://localhost:8080/",
          "height": 34
        }
      },
      "source": [
        "class Father():\n",
        "  def __init__(self,nam):\n",
        "    self.name = nam\n",
        "    self.__eye=\"黑色\"\n",
        "  def getEye(self):\n",
        "    return self.__eye\n",
        "\n",
        "class Child(Father):\n",
        "  def __init__(self,name,eye):\n",
        "    super().__init__(name)\n",
        "    self.eye=eye\n",
        "    self.fathereye=super().getEye()\n",
        "\n",
        "joe = Child(\"曉華\",\"綠色\")\n",
        "print(joe.name + \"眼睛是\" + joe.eye + \",他的父親是\" + joe.fathereye)"
      ],
      "execution_count": 52,
      "outputs": [
        {
          "output_type": "stream",
          "text": [
            "曉華眼睛是綠色,他的父親是黑色\n"
          ],
          "name": "stdout"
        }
      ]
    },
    {
      "cell_type": "code",
      "metadata": {
        "id": "xV0sQU6eBUlJ",
        "outputId": "6516396f-f733-444b-d7bc-a381240cf1ee",
        "colab": {
          "base_uri": "https://localhost:8080/",
          "height": 34
        }
      },
      "source": [
        "class Father():\n",
        "  def say(self):\n",
        "    print(\"明天會更好\")\n",
        "\n",
        "class Mother():\n",
        "  def say(self):\n",
        "    print(\"尊重 包容\")\n",
        "\n",
        "class Child(Father,Mother):  #子內別可以有多個父內別,呼叫順序由左到右\n",
        "  def say(self):\n",
        "    print(\"text\")     #子內別自己的呼叫優先級最高\n",
        "\n",
        "child = Child()\n",
        "child.say()"
      ],
      "execution_count": 53,
      "outputs": [
        {
          "output_type": "stream",
          "text": [
            "text\n"
          ],
          "name": "stdout"
        }
      ]
    },
    {
      "cell_type": "code",
      "metadata": {
        "id": "BZowWu3vD88M",
        "outputId": "355590a5-2bd8-4521-8191-24f1dc0d5533",
        "colab": {
          "base_uri": "https://localhost:8080/",
          "height": 50
        }
      },
      "source": [
        "class Rectangle():\n",
        "  def __init__(self,width,high):\n",
        "    self.width = width\n",
        "    self.high = high\n",
        "  def area(self):\n",
        "    return self.width * self.high\n",
        "\n",
        "class Triangle(Rectangle):\n",
        "  def area2(self):\n",
        "    return (self.width * self.high) / 2\n",
        "\n",
        "triangle = Triangle(5,6)\n",
        "print(\"矩形面積 = \",triangle.area())\n",
        "print(\"三角形面積 = \",triangle.area2())\n"
      ],
      "execution_count": 56,
      "outputs": [
        {
          "output_type": "stream",
          "text": [
            "矩形面積 =  30\n",
            "三角形面積 =  15.0\n"
          ],
          "name": "stdout"
        }
      ]
    }
  ]
}